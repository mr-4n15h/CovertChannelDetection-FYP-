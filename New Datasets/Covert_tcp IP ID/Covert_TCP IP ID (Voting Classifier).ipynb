{
 "cells": [
  {
   "cell_type": "markdown",
   "metadata": {},
   "source": [
    "# Covert Channel Detection Using Ensemble Voting Classifier"
   ]
  },
  {
   "cell_type": "code",
   "execution_count": 2,
   "metadata": {},
   "outputs": [],
   "source": [
    "import numpy as np\n",
    "import pandas as pd\n",
    "import matplotlib.pyplot as plt\n",
    "%matplotlib inline"
   ]
  },
  {
   "cell_type": "code",
   "execution_count": 3,
   "metadata": {},
   "outputs": [
    {
     "data": {
      "text/html": [
       "<div>\n",
       "<style scoped>\n",
       "    .dataframe tbody tr th:only-of-type {\n",
       "        vertical-align: middle;\n",
       "    }\n",
       "\n",
       "    .dataframe tbody tr th {\n",
       "        vertical-align: top;\n",
       "    }\n",
       "\n",
       "    .dataframe thead th {\n",
       "        text-align: right;\n",
       "    }\n",
       "</style>\n",
       "<table border=\"1\" class=\"dataframe\">\n",
       "  <thead>\n",
       "    <tr style=\"text-align: right;\">\n",
       "      <th></th>\n",
       "      <th>ip.id</th>\n",
       "      <th>ip.id.dec</th>\n",
       "      <th>ip.flags.df</th>\n",
       "      <th>ip.checksum</th>\n",
       "      <th>ip.checksum.dec</th>\n",
       "      <th>ip.ttl</th>\n",
       "      <th>class</th>\n",
       "    </tr>\n",
       "  </thead>\n",
       "  <tbody>\n",
       "    <tr>\n",
       "      <td>0</td>\n",
       "      <td>0x00004c00</td>\n",
       "      <td>19456</td>\n",
       "      <td>0</td>\n",
       "      <td>0x000015c4</td>\n",
       "      <td>5572</td>\n",
       "      <td>64</td>\n",
       "      <td>1</td>\n",
       "    </tr>\n",
       "    <tr>\n",
       "      <td>1</td>\n",
       "      <td>0x00006f00</td>\n",
       "      <td>28416</td>\n",
       "      <td>0</td>\n",
       "      <td>0x0000f2c3</td>\n",
       "      <td>62147</td>\n",
       "      <td>64</td>\n",
       "      <td>1</td>\n",
       "    </tr>\n",
       "    <tr>\n",
       "      <td>2</td>\n",
       "      <td>0x00007200</td>\n",
       "      <td>29184</td>\n",
       "      <td>0</td>\n",
       "      <td>0x0000efc3</td>\n",
       "      <td>61379</td>\n",
       "      <td>64</td>\n",
       "      <td>1</td>\n",
       "    </tr>\n",
       "    <tr>\n",
       "      <td>3</td>\n",
       "      <td>0x00006500</td>\n",
       "      <td>25856</td>\n",
       "      <td>0</td>\n",
       "      <td>0x0000fcc3</td>\n",
       "      <td>64707</td>\n",
       "      <td>64</td>\n",
       "      <td>1</td>\n",
       "    </tr>\n",
       "    <tr>\n",
       "      <td>4</td>\n",
       "      <td>0x00006d00</td>\n",
       "      <td>27904</td>\n",
       "      <td>0</td>\n",
       "      <td>0x0000f4c3</td>\n",
       "      <td>62659</td>\n",
       "      <td>64</td>\n",
       "      <td>1</td>\n",
       "    </tr>\n",
       "    <tr>\n",
       "      <td>5</td>\n",
       "      <td>0x00002000</td>\n",
       "      <td>8192</td>\n",
       "      <td>0</td>\n",
       "      <td>0x000041c4</td>\n",
       "      <td>16836</td>\n",
       "      <td>64</td>\n",
       "      <td>1</td>\n",
       "    </tr>\n",
       "    <tr>\n",
       "      <td>6</td>\n",
       "      <td>0x00006900</td>\n",
       "      <td>26880</td>\n",
       "      <td>0</td>\n",
       "      <td>0x0000f8c3</td>\n",
       "      <td>63683</td>\n",
       "      <td>64</td>\n",
       "      <td>1</td>\n",
       "    </tr>\n",
       "    <tr>\n",
       "      <td>7</td>\n",
       "      <td>0x00007000</td>\n",
       "      <td>28672</td>\n",
       "      <td>0</td>\n",
       "      <td>0x0000f1c3</td>\n",
       "      <td>61891</td>\n",
       "      <td>64</td>\n",
       "      <td>1</td>\n",
       "    </tr>\n",
       "    <tr>\n",
       "      <td>8</td>\n",
       "      <td>0x00007300</td>\n",
       "      <td>29440</td>\n",
       "      <td>0</td>\n",
       "      <td>0x0000eec3</td>\n",
       "      <td>61123</td>\n",
       "      <td>64</td>\n",
       "      <td>1</td>\n",
       "    </tr>\n",
       "    <tr>\n",
       "      <td>9</td>\n",
       "      <td>0x00007500</td>\n",
       "      <td>29952</td>\n",
       "      <td>0</td>\n",
       "      <td>0x0000ecc3</td>\n",
       "      <td>60611</td>\n",
       "      <td>64</td>\n",
       "      <td>1</td>\n",
       "    </tr>\n",
       "  </tbody>\n",
       "</table>\n",
       "</div>"
      ],
      "text/plain": [
       "        ip.id  ip.id.dec  ip.flags.df ip.checksum  ip.checksum.dec  ip.ttl  \\\n",
       "0  0x00004c00      19456            0  0x000015c4             5572      64   \n",
       "1  0x00006f00      28416            0  0x0000f2c3            62147      64   \n",
       "2  0x00007200      29184            0  0x0000efc3            61379      64   \n",
       "3  0x00006500      25856            0  0x0000fcc3            64707      64   \n",
       "4  0x00006d00      27904            0  0x0000f4c3            62659      64   \n",
       "5  0x00002000       8192            0  0x000041c4            16836      64   \n",
       "6  0x00006900      26880            0  0x0000f8c3            63683      64   \n",
       "7  0x00007000      28672            0  0x0000f1c3            61891      64   \n",
       "8  0x00007300      29440            0  0x0000eec3            61123      64   \n",
       "9  0x00007500      29952            0  0x0000ecc3            60611      64   \n",
       "\n",
       "   class  \n",
       "0      1  \n",
       "1      1  \n",
       "2      1  \n",
       "3      1  \n",
       "4      1  \n",
       "5      1  \n",
       "6      1  \n",
       "7      1  \n",
       "8      1  \n",
       "9      1  "
      ]
     },
     "execution_count": 3,
     "metadata": {},
     "output_type": "execute_result"
    }
   ],
   "source": [
    "# Two classes exist in this dataset: 1 and 0\n",
    "# 1 = Covert packet\n",
    "# 0 = Normal packet\n",
    "dataset = pd.read_excel('Final Covert_tcp IP ID Dataset.xlsx')\n",
    "dataset.head(10)"
   ]
  },
  {
   "cell_type": "code",
   "execution_count": 4,
   "metadata": {},
   "outputs": [
    {
     "data": {
      "text/html": [
       "<div>\n",
       "<style scoped>\n",
       "    .dataframe tbody tr th:only-of-type {\n",
       "        vertical-align: middle;\n",
       "    }\n",
       "\n",
       "    .dataframe tbody tr th {\n",
       "        vertical-align: top;\n",
       "    }\n",
       "\n",
       "    .dataframe thead th {\n",
       "        text-align: right;\n",
       "    }\n",
       "</style>\n",
       "<table border=\"1\" class=\"dataframe\">\n",
       "  <thead>\n",
       "    <tr style=\"text-align: right;\">\n",
       "      <th></th>\n",
       "      <th>ip.id</th>\n",
       "      <th>ip.id.dec</th>\n",
       "      <th>ip.flags.df</th>\n",
       "      <th>ip.checksum</th>\n",
       "      <th>ip.checksum.dec</th>\n",
       "      <th>ip.ttl</th>\n",
       "      <th>class</th>\n",
       "    </tr>\n",
       "  </thead>\n",
       "  <tbody>\n",
       "    <tr>\n",
       "      <td>100393</td>\n",
       "      <td>0x0000a34a</td>\n",
       "      <td>41802</td>\n",
       "      <td>1</td>\n",
       "      <td>0x00008bb2</td>\n",
       "      <td>35762</td>\n",
       "      <td>64</td>\n",
       "      <td>0</td>\n",
       "    </tr>\n",
       "    <tr>\n",
       "      <td>100394</td>\n",
       "      <td>0x0000cff2</td>\n",
       "      <td>53234</td>\n",
       "      <td>0</td>\n",
       "      <td>0x0000d4a1</td>\n",
       "      <td>54433</td>\n",
       "      <td>255</td>\n",
       "      <td>0</td>\n",
       "    </tr>\n",
       "    <tr>\n",
       "      <td>100395</td>\n",
       "      <td>0x00003a1d</td>\n",
       "      <td>14877</td>\n",
       "      <td>1</td>\n",
       "      <td>0x0000f4df</td>\n",
       "      <td>62687</td>\n",
       "      <td>64</td>\n",
       "      <td>0</td>\n",
       "    </tr>\n",
       "    <tr>\n",
       "      <td>100396</td>\n",
       "      <td>0x0000cff4</td>\n",
       "      <td>53236</td>\n",
       "      <td>0</td>\n",
       "      <td>0x0000d49f</td>\n",
       "      <td>54431</td>\n",
       "      <td>255</td>\n",
       "      <td>0</td>\n",
       "    </tr>\n",
       "    <tr>\n",
       "      <td>100397</td>\n",
       "      <td>0x0000a34b</td>\n",
       "      <td>41803</td>\n",
       "      <td>1</td>\n",
       "      <td>0x00008bb1</td>\n",
       "      <td>35761</td>\n",
       "      <td>64</td>\n",
       "      <td>0</td>\n",
       "    </tr>\n",
       "  </tbody>\n",
       "</table>\n",
       "</div>"
      ],
      "text/plain": [
       "             ip.id  ip.id.dec  ip.flags.df ip.checksum  ip.checksum.dec  \\\n",
       "100393  0x0000a34a      41802            1  0x00008bb2            35762   \n",
       "100394  0x0000cff2      53234            0  0x0000d4a1            54433   \n",
       "100395  0x00003a1d      14877            1  0x0000f4df            62687   \n",
       "100396  0x0000cff4      53236            0  0x0000d49f            54431   \n",
       "100397  0x0000a34b      41803            1  0x00008bb1            35761   \n",
       "\n",
       "        ip.ttl  class  \n",
       "100393      64      0  \n",
       "100394     255      0  \n",
       "100395      64      0  \n",
       "100396     255      0  \n",
       "100397      64      0  "
      ]
     },
     "execution_count": 4,
     "metadata": {},
     "output_type": "execute_result"
    }
   ],
   "source": [
    "dataset.tail()"
   ]
  },
  {
   "cell_type": "code",
   "execution_count": 5,
   "metadata": {},
   "outputs": [
    {
     "data": {
      "text/plain": [
       "ip.id              0\n",
       "ip.id.dec          0\n",
       "ip.flags.df        0\n",
       "ip.checksum        0\n",
       "ip.checksum.dec    0\n",
       "ip.ttl             0\n",
       "class              0\n",
       "dtype: int64"
      ]
     },
     "execution_count": 5,
     "metadata": {},
     "output_type": "execute_result"
    }
   ],
   "source": [
    "# Check if there are any nulls\n",
    "dataset.isnull().sum(axis=0)\n",
    "# No nulls detected"
   ]
  },
  {
   "cell_type": "code",
   "execution_count": 6,
   "metadata": {},
   "outputs": [
    {
     "name": "stdout",
     "output_type": "stream",
     "text": [
      "Total covert packets: 50199\n",
      "Total normal packets: 50199\n"
     ]
    }
   ],
   "source": [
    "# Count the different types of packets\n",
    "total_covert_packets = dataset [ dataset ['class'] == 1 ]\n",
    "total_normal_packets = dataset [ dataset ['class'] == 0 ]\n",
    "print(f'Total covert packets: {len(total_covert_packets)}')\n",
    "print(f'Total normal packets: {len(total_normal_packets)}')"
   ]
  },
  {
   "cell_type": "code",
   "execution_count": 7,
   "metadata": {},
   "outputs": [
    {
     "name": "stdout",
     "output_type": "stream",
     "text": [
      "100398\n"
     ]
    }
   ],
   "source": [
    "# Total packets in the dataset\n",
    "print(len(dataset))"
   ]
  },
  {
   "cell_type": "code",
   "execution_count": 8,
   "metadata": {},
   "outputs": [],
   "source": [
    "# Right now the dataset contains hexadecimal values\n",
    "# These values are the ip.ip and ip.checksum values\n",
    "dataset = dataset.drop(['ip.id', 'ip.checksum', 'ip.ttl'], axis=1)"
   ]
  },
  {
   "cell_type": "code",
   "execution_count": 9,
   "metadata": {},
   "outputs": [
    {
     "data": {
      "text/html": [
       "<div>\n",
       "<style scoped>\n",
       "    .dataframe tbody tr th:only-of-type {\n",
       "        vertical-align: middle;\n",
       "    }\n",
       "\n",
       "    .dataframe tbody tr th {\n",
       "        vertical-align: top;\n",
       "    }\n",
       "\n",
       "    .dataframe thead th {\n",
       "        text-align: right;\n",
       "    }\n",
       "</style>\n",
       "<table border=\"1\" class=\"dataframe\">\n",
       "  <thead>\n",
       "    <tr style=\"text-align: right;\">\n",
       "      <th></th>\n",
       "      <th>ip.id.dec</th>\n",
       "      <th>ip.flags.df</th>\n",
       "      <th>ip.checksum.dec</th>\n",
       "      <th>class</th>\n",
       "    </tr>\n",
       "  </thead>\n",
       "  <tbody>\n",
       "    <tr>\n",
       "      <td>0</td>\n",
       "      <td>19456</td>\n",
       "      <td>0</td>\n",
       "      <td>5572</td>\n",
       "      <td>1</td>\n",
       "    </tr>\n",
       "    <tr>\n",
       "      <td>1</td>\n",
       "      <td>28416</td>\n",
       "      <td>0</td>\n",
       "      <td>62147</td>\n",
       "      <td>1</td>\n",
       "    </tr>\n",
       "    <tr>\n",
       "      <td>2</td>\n",
       "      <td>29184</td>\n",
       "      <td>0</td>\n",
       "      <td>61379</td>\n",
       "      <td>1</td>\n",
       "    </tr>\n",
       "    <tr>\n",
       "      <td>3</td>\n",
       "      <td>25856</td>\n",
       "      <td>0</td>\n",
       "      <td>64707</td>\n",
       "      <td>1</td>\n",
       "    </tr>\n",
       "    <tr>\n",
       "      <td>4</td>\n",
       "      <td>27904</td>\n",
       "      <td>0</td>\n",
       "      <td>62659</td>\n",
       "      <td>1</td>\n",
       "    </tr>\n",
       "  </tbody>\n",
       "</table>\n",
       "</div>"
      ],
      "text/plain": [
       "   ip.id.dec  ip.flags.df  ip.checksum.dec  class\n",
       "0      19456            0             5572      1\n",
       "1      28416            0            62147      1\n",
       "2      29184            0            61379      1\n",
       "3      25856            0            64707      1\n",
       "4      27904            0            62659      1"
      ]
     },
     "execution_count": 9,
     "metadata": {},
     "output_type": "execute_result"
    }
   ],
   "source": [
    "dataset.head()"
   ]
  },
  {
   "cell_type": "code",
   "execution_count": 10,
   "metadata": {},
   "outputs": [
    {
     "data": {
      "text/html": [
       "<div>\n",
       "<style scoped>\n",
       "    .dataframe tbody tr th:only-of-type {\n",
       "        vertical-align: middle;\n",
       "    }\n",
       "\n",
       "    .dataframe tbody tr th {\n",
       "        vertical-align: top;\n",
       "    }\n",
       "\n",
       "    .dataframe thead th {\n",
       "        text-align: right;\n",
       "    }\n",
       "</style>\n",
       "<table border=\"1\" class=\"dataframe\">\n",
       "  <thead>\n",
       "    <tr style=\"text-align: right;\">\n",
       "      <th></th>\n",
       "      <th>ip.id.dec</th>\n",
       "      <th>ip.flags.df</th>\n",
       "      <th>ip.checksum.dec</th>\n",
       "      <th>class</th>\n",
       "    </tr>\n",
       "  </thead>\n",
       "  <tbody>\n",
       "    <tr>\n",
       "      <td>100393</td>\n",
       "      <td>41802</td>\n",
       "      <td>1</td>\n",
       "      <td>35762</td>\n",
       "      <td>0</td>\n",
       "    </tr>\n",
       "    <tr>\n",
       "      <td>100394</td>\n",
       "      <td>53234</td>\n",
       "      <td>0</td>\n",
       "      <td>54433</td>\n",
       "      <td>0</td>\n",
       "    </tr>\n",
       "    <tr>\n",
       "      <td>100395</td>\n",
       "      <td>14877</td>\n",
       "      <td>1</td>\n",
       "      <td>62687</td>\n",
       "      <td>0</td>\n",
       "    </tr>\n",
       "    <tr>\n",
       "      <td>100396</td>\n",
       "      <td>53236</td>\n",
       "      <td>0</td>\n",
       "      <td>54431</td>\n",
       "      <td>0</td>\n",
       "    </tr>\n",
       "    <tr>\n",
       "      <td>100397</td>\n",
       "      <td>41803</td>\n",
       "      <td>1</td>\n",
       "      <td>35761</td>\n",
       "      <td>0</td>\n",
       "    </tr>\n",
       "  </tbody>\n",
       "</table>\n",
       "</div>"
      ],
      "text/plain": [
       "        ip.id.dec  ip.flags.df  ip.checksum.dec  class\n",
       "100393      41802            1            35762      0\n",
       "100394      53234            0            54433      0\n",
       "100395      14877            1            62687      0\n",
       "100396      53236            0            54431      0\n",
       "100397      41803            1            35761      0"
      ]
     },
     "execution_count": 10,
     "metadata": {},
     "output_type": "execute_result"
    }
   ],
   "source": [
    "dataset.tail()"
   ]
  },
  {
   "cell_type": "code",
   "execution_count": 11,
   "metadata": {},
   "outputs": [],
   "source": [
    "# Ready for data visualisation\n",
    "import seaborn as sns"
   ]
  },
  {
   "cell_type": "code",
   "execution_count": 12,
   "metadata": {},
   "outputs": [
    {
     "name": "stderr",
     "output_type": "stream",
     "text": [
      "C:\\Users\\Anish\\Anaconda3\\lib\\site-packages\\statsmodels\\nonparametric\\kde.py:487: RuntimeWarning: invalid value encountered in true_divide\n",
      "  binned = fast_linbin(X, a, b, gridsize) / (delta * nobs)\n",
      "C:\\Users\\Anish\\Anaconda3\\lib\\site-packages\\statsmodels\\nonparametric\\kdetools.py:34: RuntimeWarning: invalid value encountered in double_scalars\n",
      "  FAC1 = 2*(np.pi*bw/RANGE)**2\n"
     ]
    },
    {
     "data": {
      "text/plain": [
       "<seaborn.axisgrid.PairGrid at 0x17567fa29c8>"
      ]
     },
     "execution_count": 12,
     "metadata": {},
     "output_type": "execute_result"
    },
    {
     "data": {
      "image/png": "[encoded data removed]",
      "text/plain": [
       "<Figure size 762.375x720 with 20 Axes>"
      ]
     },
     "metadata": {
      "needs_background": "light"
     },
     "output_type": "display_data"
    }
   ],
   "source": [
    "sns.pairplot(dataset, hue='class')"
   ]
  },
  {
   "cell_type": "code",
   "execution_count": 13,
   "metadata": {},
   "outputs": [],
   "source": [
    "# Set the independent and dependent variables\n",
    "X = dataset.iloc[:, :-1]\n",
    "y = dataset.iloc[:, -1]"
   ]
  },
  {
   "cell_type": "code",
   "execution_count": 14,
   "metadata": {},
   "outputs": [
    {
     "data": {
      "text/html": [
       "<div>\n",
       "<style scoped>\n",
       "    .dataframe tbody tr th:only-of-type {\n",
       "        vertical-align: middle;\n",
       "    }\n",
       "\n",
       "    .dataframe tbody tr th {\n",
       "        vertical-align: top;\n",
       "    }\n",
       "\n",
       "    .dataframe thead th {\n",
       "        text-align: right;\n",
       "    }\n",
       "</style>\n",
       "<table border=\"1\" class=\"dataframe\">\n",
       "  <thead>\n",
       "    <tr style=\"text-align: right;\">\n",
       "      <th></th>\n",
       "      <th>ip.id.dec</th>\n",
       "      <th>ip.flags.df</th>\n",
       "      <th>ip.checksum.dec</th>\n",
       "    </tr>\n",
       "  </thead>\n",
       "  <tbody>\n",
       "    <tr>\n",
       "      <td>0</td>\n",
       "      <td>19456</td>\n",
       "      <td>0</td>\n",
       "      <td>5572</td>\n",
       "    </tr>\n",
       "    <tr>\n",
       "      <td>1</td>\n",
       "      <td>28416</td>\n",
       "      <td>0</td>\n",
       "      <td>62147</td>\n",
       "    </tr>\n",
       "    <tr>\n",
       "      <td>2</td>\n",
       "      <td>29184</td>\n",
       "      <td>0</td>\n",
       "      <td>61379</td>\n",
       "    </tr>\n",
       "    <tr>\n",
       "      <td>3</td>\n",
       "      <td>25856</td>\n",
       "      <td>0</td>\n",
       "      <td>64707</td>\n",
       "    </tr>\n",
       "    <tr>\n",
       "      <td>4</td>\n",
       "      <td>27904</td>\n",
       "      <td>0</td>\n",
       "      <td>62659</td>\n",
       "    </tr>\n",
       "  </tbody>\n",
       "</table>\n",
       "</div>"
      ],
      "text/plain": [
       "   ip.id.dec  ip.flags.df  ip.checksum.dec\n",
       "0      19456            0             5572\n",
       "1      28416            0            62147\n",
       "2      29184            0            61379\n",
       "3      25856            0            64707\n",
       "4      27904            0            62659"
      ]
     },
     "execution_count": 14,
     "metadata": {},
     "output_type": "execute_result"
    }
   ],
   "source": [
    "# View the independent variables\n",
    "X.head()"
   ]
  },
  {
   "cell_type": "code",
   "execution_count": 15,
   "metadata": {},
   "outputs": [
    {
     "data": {
      "text/plain": [
       "0    1\n",
       "1    1\n",
       "2    1\n",
       "3    1\n",
       "4    1\n",
       "Name: class, dtype: int64"
      ]
     },
     "execution_count": 15,
     "metadata": {},
     "output_type": "execute_result"
    }
   ],
   "source": [
    "# Class\n",
    "y.head()"
   ]
  },
  {
   "cell_type": "code",
   "execution_count": 16,
   "metadata": {},
   "outputs": [],
   "source": [
    "# Split the dataset into training and testing sets\n",
    "# Stratify it so there is equal number of packets in the two classes\n",
    "from sklearn.model_selection import train_test_split\n",
    "X_train, X_test, y_train, y_test = train_test_split(X, y, test_size=0.25, stratify=y)"
   ]
  },
  {
   "cell_type": "code",
   "execution_count": 17,
   "metadata": {},
   "outputs": [
    {
     "name": "stdout",
     "output_type": "stream",
     "text": [
      "(75298, 3)\n",
      "(25100, 3)\n",
      "\n",
      "(75298,)\n",
      "(25100,)\n"
     ]
    }
   ],
   "source": [
    "# Check the size the datasets\n",
    "print(X_train.shape)\n",
    "print(X_test.shape)\n",
    "print()\n",
    "print(y_train.shape)\n",
    "print(y_test.shape)"
   ]
  },
  {
   "cell_type": "code",
   "execution_count": 18,
   "metadata": {},
   "outputs": [],
   "source": [
    "# Scale the variables for faster computation\n",
    "from sklearn.preprocessing import StandardScaler\n",
    "scaler = StandardScaler()\n",
    "X_train = scaler.fit_transform(X_train)\n",
    "X_test = scaler.transform(X_test)"
   ]
  },
  {
   "cell_type": "code",
   "execution_count": 19,
   "metadata": {},
   "outputs": [
    {
     "name": "stderr",
     "output_type": "stream",
     "text": [
      "C:\\Users\\Anish\\Anaconda3\\lib\\site-packages\\sklearn\\linear_model\\logistic.py:432: FutureWarning: Default solver will be changed to 'lbfgs' in 0.22. Specify a solver to silence this warning.\n",
      "  FutureWarning)\n"
     ]
    },
    {
     "data": {
      "text/plain": [
       "VotingClassifier(estimators=[('lr',\n",
       "                              LogisticRegression(C=1.0, class_weight=None,\n",
       "                                                 dual=False, fit_intercept=True,\n",
       "                                                 intercept_scaling=1,\n",
       "                                                 l1_ratio=None, max_iter=100,\n",
       "                                                 multi_class='warn',\n",
       "                                                 n_jobs=None, penalty='l2',\n",
       "                                                 random_state=None,\n",
       "                                                 solver='warn', tol=0.0001,\n",
       "                                                 verbose=0, warm_start=False)),\n",
       "                             ('nb',\n",
       "                              GaussianNB(priors=None, var_smoothing=1e-09)),\n",
       "                             ('svm',\n",
       "                              SVC(C=1.0, cache_size=200, class_weight=None,\n",
       "                                  coef0=0.0, decision_function_shape='ovr',\n",
       "                                  degree=3, gamma='auto', kernel='rbf',\n",
       "                                  max_iter=-1, probability=False,\n",
       "                                  random_state=None, shrinking=True, tol=0.001,\n",
       "                                  verbose=False))],\n",
       "                 flatten_transform=True, n_jobs=None, voting='hard',\n",
       "                 weights=None)"
      ]
     },
     "execution_count": 19,
     "metadata": {},
     "output_type": "execute_result"
    }
   ],
   "source": [
    "# Import the necessary modules to build the voting classifier\n",
    "from sklearn.linear_model import LogisticRegression\n",
    "from sklearn.naive_bayes import GaussianNB\n",
    "from sklearn.svm import SVC\n",
    "from sklearn.ensemble import VotingClassifier\n",
    "\n",
    "lr = LogisticRegression()\n",
    "nb = GaussianNB()\n",
    "svm = SVC(kernel='rbf', gamma='auto')\n",
    "classifier = VotingClassifier(estimators=[('lr', lr), ('nb', nb), ('svm', svm)], voting='hard')\n",
    "classifier.fit(X_train, y_train)"
   ]
  },
  {
   "cell_type": "code",
   "execution_count": 20,
   "metadata": {},
   "outputs": [
    {
     "name": "stdout",
     "output_type": "stream",
     "text": [
      "[1 1 0 ... 1 1 1]\n"
     ]
    }
   ],
   "source": [
    "# Predict the test data\n",
    "y_predict = classifier.predict(X_test)\n",
    "print(y_predict)"
   ]
  },
  {
   "cell_type": "code",
   "execution_count": 21,
   "metadata": {},
   "outputs": [
    {
     "name": "stdout",
     "output_type": "stream",
     "text": [
      "0.8735458167330677 %\n",
      "0.8735458167330677 %\n",
      "              precision    recall  f1-score   support\n",
      "\n",
      "           0       1.00      0.75      0.86     12550\n",
      "           1       0.80      1.00      0.89     12550\n",
      "\n",
      "    accuracy                           0.87     25100\n",
      "   macro avg       0.90      0.87      0.87     25100\n",
      "weighted avg       0.90      0.87      0.87     25100\n",
      "\n",
      "[[ 9376  3174]\n",
      " [    0 12550]]\n"
     ]
    }
   ],
   "source": [
    "# Model evaluation\n",
    "from sklearn.metrics import accuracy_score, classification_report, confusion_matrix\n",
    "\n",
    "# Model score\n",
    "score = classifier.score(X_test, y_test)\n",
    "print(score, '%')\n",
    "\n",
    "# Accuracy using the accuracy_score function from the sklearn.metrics\n",
    "score = accuracy_score(y_test, y_predict)\n",
    "print(score, '%')\n",
    "\n",
    "# The quality of the predictions being made\n",
    "report = classification_report(y_test, y_predict)\n",
    "print(report)\n",
    "\n",
    "# The confusion matrix\n",
    "cm = confusion_matrix(y_test, y_predict)\n",
    "print(cm)"
   ]
  },
  {
   "cell_type": "code",
   "execution_count": 22,
   "metadata": {},
   "outputs": [
    {
     "name": "stdout",
     "output_type": "stream",
     "text": [
      "KFold cross validation scores: {'fit_time': array([1054.04150271, 1062.73344755, 1068.82936764, 1068.7214973 ,\n",
      "       1065.01343012, 1118.55919647, 1064.10114479,  771.50941753,\n",
      "        785.06229448,  653.85439968]), 'score_time': array([31.97072816, 33.24204469, 33.95269561, 33.62555122, 31.78489089,\n",
      "       34.50169444, 34.24789619, 30.77704072, 19.8394742 , 19.96256113]), 'test_score': array([0.93466135, 0.72450199, 0.91334661, 0.94511952, 0.80448207,\n",
      "       0.8810757 , 0.937251  , 0.84830677, 0.85229084, 0.93604304]), 'train_score': array([0.872485  , 0.89435357, 0.87750946, 0.87478696, 0.8854335 ,\n",
      "       0.88067465, 0.87602647, 0.88191416, 0.88429359, 0.87695883])}\n",
      "Average score is 0.8777078893035153\n",
      "\n"
     ]
    }
   ],
   "source": [
    "# Accuracy can be misleading\n",
    "# Try the KFold cross validation\n",
    "from sklearn.model_selection import cross_validate\n",
    "scores = cross_validate(classifier, X, y,cv=10, return_train_score=True, n_jobs=-1)\n",
    "print(f'KFold cross validation scores: {scores}')\n",
    "avg = np.average(scores['test_score'])\n",
    "print(f'Average score is {avg}')\n",
    "print()"
   ]
  },
  {
   "cell_type": "code",
   "execution_count": 26,
   "metadata": {},
   "outputs": [
    {
     "name": "stdout",
     "output_type": "stream",
     "text": [
      "[[-5.33624543e-01  1.36775034e+04 -1.58449712e+00]]\n",
      "[0]\n"
     ]
    }
   ],
   "source": [
    "# Covert packet \n",
    "observation = [[19456, 5572, 64]]\n",
    "scaled_observation = scaler.transform(observation)\n",
    "print(scaled_observation)\n",
    "print(classifier.predict(scaled_observation))"
   ]
  },
  {
   "cell_type": "code",
   "execution_count": 27,
   "metadata": {},
   "outputs": [
    {
     "name": "stderr",
     "output_type": "stream",
     "text": [
      "C:\\Users\\Anish\\Anaconda3\\lib\\site-packages\\sklearn\\linear_model\\logistic.py:432: FutureWarning: Default solver will be changed to 'lbfgs' in 0.22. Specify a solver to silence this warning.\n",
      "  FutureWarning)\n"
     ]
    },
    {
     "name": "stdout",
     "output_type": "stream",
     "text": [
      "LogisticRegression 0.8316334661354582\n",
      "GaussianNB 0.7225498007968127\n",
      "SVC 0.9945019920318725\n"
     ]
    },
    {
     "name": "stderr",
     "output_type": "stream",
     "text": [
      "C:\\Users\\Anish\\Anaconda3\\lib\\site-packages\\sklearn\\linear_model\\logistic.py:432: FutureWarning: Default solver will be changed to 'lbfgs' in 0.22. Specify a solver to silence this warning.\n",
      "  FutureWarning)\n"
     ]
    },
    {
     "name": "stdout",
     "output_type": "stream",
     "text": [
      "VotingClassifier 0.8735458167330677\n"
     ]
    }
   ],
   "source": [
    "# Print the score of each model\n",
    "from sklearn.metrics import accuracy_score\n",
    "for clf in (lr, nb, svm, classifier):\n",
    "    clf.fit(X_train, y_train)\n",
    "    y_pred = clf.predict(X_test)\n",
    "    print(clf.__class__.__name__, accuracy_score(y_test, y_pred))"
   ]
  }
 ],
 "metadata": {
  "kernelspec": {
   "display_name": "Python 3",
   "language": "python",
   "name": "python3"
  },
  "language_info": {
   "codemirror_mode": {
    "name": "ipython",
    "version": 3
   },
   "file_extension": ".py",
   "mimetype": "text/x-python",
   "name": "python",
   "nbconvert_exporter": "python",
   "pygments_lexer": "ipython3",
   "version": "3.7.4"
  }
 },
 "nbformat": 4,
 "nbformat_minor": 2
}
